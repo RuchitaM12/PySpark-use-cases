{
 "cells": [
  {
   "cell_type": "code",
   "execution_count": 0,
   "metadata": {
    "application/vnd.databricks.v1+cell": {
     "cellMetadata": {
      "byteLimit": 2048000,
      "rowLimit": 10000
     },
     "inputWidgets": {},
     "nuid": "f38decde-597d-47a3-8f36-ed33dd91f9b8",
     "showTitle": false,
     "tableResultSettingsMap": {},
     "title": ""
    }
   },
   "outputs": [],
   "source": [
    "%run /Workspace/Users/mahatoruchita712@gmail.com/PySpark-use-cases/use_case1/utils"
   ]
  },
  {
   "cell_type": "code",
   "execution_count": 0,
   "metadata": {
    "application/vnd.databricks.v1+cell": {
     "cellMetadata": {
      "byteLimit": 2048000,
      "rowLimit": 10000
     },
     "inputWidgets": {},
     "nuid": "4f98857e-396b-4cb8-9365-397a16a60b2f",
     "showTitle": false,
     "tableResultSettingsMap": {},
     "title": ""
    }
   },
   "outputs": [],
   "source": [
    "df_gold = read_file(\"silver\", \"orders\", \"delta\", \"failfast\")"
   ]
  },
  {
   "cell_type": "code",
   "execution_count": 0,
   "metadata": {
    "application/vnd.databricks.v1+cell": {
     "cellMetadata": {
      "byteLimit": 2048000,
      "rowLimit": 10000
     },
     "inputWidgets": {},
     "nuid": "51fdc7b7-501b-41b9-98a8-f93a761a7898",
     "showTitle": false,
     "tableResultSettingsMap": {},
     "title": ""
    }
   },
   "outputs": [],
   "source": [
    "df_gold.display()"
   ]
  },
  {
   "cell_type": "markdown",
   "metadata": {
    "application/vnd.databricks.v1+cell": {
     "cellMetadata": {},
     "inputWidgets": {},
     "nuid": "ea372859-30a8-4a5d-9ff0-2d71768a2668",
     "showTitle": false,
     "tableResultSettingsMap": {},
     "title": ""
    }
   },
   "source": [
    "## Creating fact tables\n"
   ]
  },
  {
   "cell_type": "markdown",
   "metadata": {
    "application/vnd.databricks.v1+cell": {
     "cellMetadata": {},
     "inputWidgets": {},
     "nuid": "75211eba-6c0a-44ea-8734-6dedc17b0daf",
     "showTitle": false,
     "tableResultSettingsMap": {},
     "title": ""
    }
   },
   "source": [
    "### Fact Table : Orders"
   ]
  },
  {
   "cell_type": "code",
   "execution_count": 0,
   "metadata": {
    "application/vnd.databricks.v1+cell": {
     "cellMetadata": {},
     "inputWidgets": {},
     "nuid": "33a8276b-41bb-44f9-ae8b-bfcc013b51f1",
     "showTitle": false,
     "tableResultSettingsMap": {},
     "title": ""
    }
   },
   "outputs": [],
   "source": [
    "fact_orders = df_gold.select(\n",
    "              col(\"order_id\"),\n",
    "              col(\"customer_id\"),\n",
    "              col(\"Order_date\"),\n",
    "              col(\"rder_date\"),\n",
    "              col(\"status\")            \n",
    ")\n",
    "\n",
    "fact_orders = write_file(fact_orders, \"gold\", \"fact_orders\", \"overwrite\")"
   ]
  },
  {
   "cell_type": "markdown",
   "metadata": {
    "application/vnd.databricks.v1+cell": {
     "cellMetadata": {},
     "inputWidgets": {},
     "nuid": "cf8efd04-9f41-45f0-9506-e8259abd4143",
     "showTitle": false,
     "tableResultSettingsMap": {},
     "title": ""
    }
   },
   "source": [
    "### Fact Table : Order items"
   ]
  },
  {
   "cell_type": "code",
   "execution_count": 0,
   "metadata": {
    "application/vnd.databricks.v1+cell": {
     "cellMetadata": {},
     "inputWidgets": {},
     "nuid": "beb33f0f-2f0d-4ce0-8092-3c12aef2dd75",
     "showTitle": false,
     "tableResultSettingsMap": {},
     "title": ""
    }
   },
   "outputs": [],
   "source": [
    "fact_order_items = df_gold.select(\n",
    "                   col(\"order_id\"),\n",
    "                   col(\"items_product_id\"),\n",
    "                   col(\"items_product_name\"),\n",
    "                   col(\"items_quantity\"),\n",
    "                   col(\"items_price\"),\n",
    "                   col(\"Total_amount\")\n",
    ")\n",
    "\n",
    "fact_order_items = write_file(fact_order_items, \"gold\", \"fact_order_items\", \"overwrite\")\n"
   ]
  },
  {
   "cell_type": "markdown",
   "metadata": {
    "application/vnd.databricks.v1+cell": {
     "cellMetadata": {},
     "inputWidgets": {},
     "nuid": "de97fc87-6091-4417-8f8e-f4321ec8141c",
     "showTitle": false,
     "tableResultSettingsMap": {},
     "title": ""
    }
   },
   "source": [
    "## Creating dimension tables"
   ]
  },
  {
   "cell_type": "markdown",
   "metadata": {
    "application/vnd.databricks.v1+cell": {
     "cellMetadata": {},
     "inputWidgets": {},
     "nuid": "a4d39c6a-21ce-4106-ae5e-c222d3470176",
     "showTitle": false,
     "tableResultSettingsMap": {},
     "title": ""
    }
   },
   "source": [
    "### Dimension Table : Customers"
   ]
  },
  {
   "cell_type": "code",
   "execution_count": 0,
   "metadata": {
    "application/vnd.databricks.v1+cell": {
     "cellMetadata": {},
     "inputWidgets": {},
     "nuid": "1ab7474d-f9d8-4e06-8460-e598d70ac0ac",
     "showTitle": false,
     "tableResultSettingsMap": {},
     "title": ""
    }
   },
   "outputs": [],
   "source": [
    "dim_customers = df_gold.select(\n",
    "                  col(\"customer_id\"),\n",
    "                  col(\"customer_name\"),\n",
    "                  col(\"customer_email\")\n",
    ")\n",
    "\n",
    "dim_customers = write_file(dim_customers, \"gold\", \"dim_customers\", \"overwrite\")"
   ]
  },
  {
   "cell_type": "markdown",
   "metadata": {
    "application/vnd.databricks.v1+cell": {
     "cellMetadata": {},
     "inputWidgets": {},
     "nuid": "a4b72db1-131f-4fbe-acb1-d5ce63127ffc",
     "showTitle": false,
     "tableResultSettingsMap": {},
     "title": ""
    }
   },
   "source": [
    "### Dimension Table : Products"
   ]
  },
  {
   "cell_type": "code",
   "execution_count": 0,
   "metadata": {
    "application/vnd.databricks.v1+cell": {
     "cellMetadata": {},
     "inputWidgets": {},
     "nuid": "44ef4249-0635-4d1c-88ef-35f91e4a32cc",
     "showTitle": false,
     "tableResultSettingsMap": {},
     "title": ""
    }
   },
   "outputs": [],
   "source": [
    "dim_products = df_gold.select(\n",
    "                  col(\"items_product_id\"),\n",
    "                  col(\"items_product_name\")\n",
    ")\n",
    "\n",
    "dim_products = write_file(dim_products, \"gold\", \"dim_products\", \"overwrite\")"
   ]
  },
  {
   "cell_type": "markdown",
   "metadata": {
    "application/vnd.databricks.v1+cell": {
     "cellMetadata": {},
     "inputWidgets": {},
     "nuid": "addb6252-b0c1-47cf-aa58-7388b370c5d4",
     "showTitle": false,
     "tableResultSettingsMap": {},
     "title": ""
    }
   },
   "source": [
    "### Dimension Table : Order status"
   ]
  },
  {
   "cell_type": "code",
   "execution_count": 0,
   "metadata": {
    "application/vnd.databricks.v1+cell": {
     "cellMetadata": {},
     "inputWidgets": {},
     "nuid": "130c58aa-8e19-4895-87af-ec812d6f5fe3",
     "showTitle": false,
     "tableResultSettingsMap": {},
     "title": ""
    }
   },
   "outputs": [],
   "source": [
    "dim_order_status = df_gold.select(\n",
    "                  col(\"status\")\n",
    ")\n",
    "\n",
    "dim_order_status = write_file(dim_order_status, \"gold\", \"dim_order_status\", \"overwrite\")"
   ]
  },
  {
   "cell_type": "markdown",
   "metadata": {
    "application/vnd.databricks.v1+cell": {
     "cellMetadata": {},
     "inputWidgets": {},
     "nuid": "dc2da531-c2bc-45f4-9f95-5e0032fac028",
     "showTitle": false,
     "tableResultSettingsMap": {},
     "title": ""
    }
   },
   "source": [
    "### Dimension Table : Location"
   ]
  },
  {
   "cell_type": "code",
   "execution_count": 0,
   "metadata": {
    "application/vnd.databricks.v1+cell": {
     "cellMetadata": {},
     "inputWidgets": {},
     "nuid": "75a566f2-0622-493c-9d1d-0784b788e709",
     "showTitle": false,
     "tableResultSettingsMap": {},
     "title": ""
    }
   },
   "outputs": [],
   "source": [
    "dim_location = df_gold.select(\n",
    "                  col(\"shipping_address_city\").alias(\"City\"),\n",
    "                  col(\"shipping_address_state\").alias(\"State\"),\n",
    "                  col(\"shipping_address_country\").alias(\"Country\")\n",
    ")\n",
    "\n",
    "dim_location = write_file(dim_location, \"gold\", \"dim_location\", \"overwrite\")"
   ]
  },
  {
   "cell_type": "markdown",
   "metadata": {
    "application/vnd.databricks.v1+cell": {
     "cellMetadata": {},
     "inputWidgets": {},
     "nuid": "e901d767-2ff8-492d-b65b-59c326980664",
     "showTitle": false,
     "tableResultSettingsMap": {},
     "title": ""
    }
   },
   "source": [
    "## Getting the top selling products"
   ]
  },
  {
   "cell_type": "code",
   "execution_count": 0,
   "metadata": {
    "application/vnd.databricks.v1+cell": {
     "cellMetadata": {},
     "inputWidgets": {},
     "nuid": "4fa415a3-76d0-401b-9f85-58ddf2a8a58a",
     "showTitle": false,
     "tableResultSettingsMap": {},
     "title": ""
    }
   },
   "outputs": [],
   "source": [
    "fact_order_items = read_file(\"gold\", \"fact_order_items\", \"delta\", \"failfast\")\n",
    "\n",
    "top_selling_product_df = fact_order_items \\\n",
    "                           .groupBy(\"items_product_name\") \\\n",
    "                           .agg(sum(\"items_quantity\").alias(\"total_quantity_sold\")) \\\n",
    "                           .orderBy(col(\"total_quantity_sold\").desc()) \\\n",
    "                           .limit(1)\n",
    "\n",
    "display(top_selling_product_df)"
   ]
  },
  {
   "cell_type": "code",
   "execution_count": 0,
   "metadata": {
    "application/vnd.databricks.v1+cell": {
     "cellMetadata": {
      "byteLimit": 2048000,
      "rowLimit": 10000
     },
     "inputWidgets": {},
     "nuid": "9d2e39a9-d1f2-40fe-b4e2-6091086bce68",
     "showTitle": false,
     "tableResultSettingsMap": {},
     "title": ""
    }
   },
   "outputs": [],
   "source": [
    "\"\"\"\n",
    "top_selling_df = df_gold.groupBy(\"items_product_name\") \\\n",
    "                        .agg(sum(\"items_quantity\").alias(\"total_quantity_sold\")) \\\n",
    "                        .orderBy(col(\"total_quantity_sold\").desc()) \\\n",
    "                        .dropna()\n",
    "top_selling_df.display()\n",
    "\n",
    "df_gold = write_file(df_gold, \"gold\", \"top_selling\", \"append\")\n",
    "\"\"\""
   ]
  },
  {
   "cell_type": "markdown",
   "metadata": {
    "application/vnd.databricks.v1+cell": {
     "cellMetadata": {},
     "inputWidgets": {},
     "nuid": "99387528-deb9-4ce5-acf6-1c5902a23326",
     "showTitle": false,
     "tableResultSettingsMap": {},
     "title": ""
    }
   },
   "source": [
    "## Getting the Average order value per customer"
   ]
  },
  {
   "cell_type": "code",
   "execution_count": 0,
   "metadata": {
    "application/vnd.databricks.v1+cell": {
     "cellMetadata": {},
     "inputWidgets": {},
     "nuid": "78c7f36d-d4c5-4752-9c78-9bfef6d5de0d",
     "showTitle": false,
     "tableResultSettingsMap": {},
     "title": ""
    }
   },
   "outputs": [],
   "source": [
    "customer_catalog.gold.fact_orders"
   ]
  },
  {
   "cell_type": "code",
   "execution_count": 0,
   "metadata": {
    "application/vnd.databricks.v1+cell": {
     "cellMetadata": {
      "byteLimit": 2048000,
      "rowLimit": 10000
     },
     "inputWidgets": {},
     "nuid": "432e6a28-5ebd-438c-9aca-f49203966eaa",
     "showTitle": false,
     "tableResultSettingsMap": {},
     "title": ""
    }
   },
   "outputs": [],
   "source": [
    "avg_order_value_per_cus_df = df_gold.groupBy(\"customer_id\") \\\n",
    "                               .agg(avg(\"Total_amount\").alias(\"avg_order_value\")) \\\n",
    "                               .orderBy(col(\"avg_order_value\").desc()) \\\n",
    "                               .dropna()\n",
    "avg_order_value_per_cus_df.display()\n",
    "\n",
    "df_gold = write_file(df_gold, \"gold\", \"avg_order_per_cus\", \"append\")"
   ]
  },
  {
   "cell_type": "markdown",
   "metadata": {
    "application/vnd.databricks.v1+cell": {
     "cellMetadata": {},
     "inputWidgets": {},
     "nuid": "400a027f-5304-435d-90eb-82c9d352d39f",
     "showTitle": false,
     "tableResultSettingsMap": {},
     "title": ""
    }
   },
   "source": [
    "## Getting overall average order value"
   ]
  },
  {
   "cell_type": "code",
   "execution_count": 0,
   "metadata": {
    "application/vnd.databricks.v1+cell": {
     "cellMetadata": {
      "byteLimit": 2048000,
      "rowLimit": 10000
     },
     "inputWidgets": {},
     "nuid": "ec825368-775e-4ffb-9c11-657cd60d55cf",
     "showTitle": false,
     "tableResultSettingsMap": {},
     "title": ""
    }
   },
   "outputs": [],
   "source": [
    "avg_order_value_df = df_gold.dropna(how='any', subset=['Total_amount']) \\\n",
    "                         .agg(avg(\"Total_amount\").alias(\"avg_order_value\")) \n",
    "\n",
    "avg_order_value_df.display()\n",
    "\n",
    "df_gold = write_file(df_gold, \"gold\", \"overall_avg_order_value\", \"append\")"
   ]
  },
  {
   "cell_type": "markdown",
   "metadata": {
    "application/vnd.databricks.v1+cell": {
     "cellMetadata": {},
     "inputWidgets": {},
     "nuid": "8d068942-b720-485f-9fee-2c7a211ad387",
     "showTitle": false,
     "tableResultSettingsMap": {},
     "title": ""
    }
   },
   "source": [
    "## Getting number of order per city"
   ]
  },
  {
   "cell_type": "code",
   "execution_count": 0,
   "metadata": {
    "application/vnd.databricks.v1+cell": {
     "cellMetadata": {
      "byteLimit": 2048000,
      "rowLimit": 10000
     },
     "inputWidgets": {},
     "nuid": "c2d6f412-4e8c-4823-8791-7ea6347786e2",
     "showTitle": false,
     "tableResultSettingsMap": {},
     "title": ""
    }
   },
   "outputs": [],
   "source": [
    "order_per_city_df = df_gold.groupBy(\"shipping_address_city\") \\\n",
    "                         .agg(count(\"order_id\").alias(\"total_orders\")) \\\n",
    "                         .dropna()\n",
    "\n",
    "order_per_city_df.display()\n",
    "\n",
    "df_gold = write_file(df_gold, \"gold\", \"order_per_city\", \"append\")"
   ]
  },
  {
   "cell_type": "markdown",
   "metadata": {
    "application/vnd.databricks.v1+cell": {
     "cellMetadata": {},
     "inputWidgets": {},
     "nuid": "1c68e90c-fa40-4cf2-9c29-2bef50d65710",
     "showTitle": false,
     "tableResultSettingsMap": {},
     "title": ""
    }
   },
   "source": [
    "## Order status distribution"
   ]
  },
  {
   "cell_type": "code",
   "execution_count": 0,
   "metadata": {
    "application/vnd.databricks.v1+cell": {
     "cellMetadata": {
      "byteLimit": 2048000,
      "rowLimit": 10000
     },
     "inputWidgets": {},
     "nuid": "ce6918a7-04de-448b-b61d-46130d36eb8d",
     "showTitle": false,
     "tableResultSettingsMap": {},
     "title": ""
    }
   },
   "outputs": [],
   "source": [
    "order_distribution_df = df_gold.groupBy(\"status\") \\\n",
    "                                .agg(count(\"order_id\").alias(\"total_orders\"))\n",
    "\n",
    "order_distribution_df.display()\n",
    "\n",
    "df_gold = write_file(df_gold, \"gold\", \"order_distribution\", \"append\")"
   ]
  },
  {
   "cell_type": "code",
   "execution_count": 0,
   "metadata": {
    "application/vnd.databricks.v1+cell": {
     "cellMetadata": {},
     "inputWidgets": {},
     "nuid": "7efd681a-1cbd-43d2-8e2e-33f4dc4129ce",
     "showTitle": false,
     "tableResultSettingsMap": {},
     "title": ""
    }
   },
   "outputs": [],
   "source": []
  }
 ],
 "metadata": {
  "application/vnd.databricks.v1+notebook": {
   "computePreferences": {
    "hardware": {
     "accelerator": null,
     "gpuPoolId": null,
     "memory": null
    }
   },
   "dashboards": [],
   "environmentMetadata": {
    "base_environment": "",
    "environment_version": "2"
   },
   "inputWidgetPreferences": null,
   "language": "python",
   "notebookMetadata": {
    "mostRecentlyExecutedCommandWithImplicitDF": {
     "commandId": 6242612172860929,
     "dataframes": [
      "_sqldf"
     ]
    },
    "pythonIndentUnit": 4
   },
   "notebookName": "gold_aggregations",
   "widgets": {}
  },
  "language_info": {
   "name": "python"
  }
 },
 "nbformat": 4,
 "nbformat_minor": 0
}
